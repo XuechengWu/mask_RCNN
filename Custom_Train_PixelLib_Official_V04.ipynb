{
  "nbformat": 4,
  "nbformat_minor": 0,
  "metadata": {
    "colab": {
      "provenance": [],
      "collapsed_sections": [],
      "include_colab_link": true
    },
    "kernelspec": {
      "name": "python3",
      "display_name": "Python 3"
    },
    "accelerator": "GPU"
  },
  "cells": [
    {
      "cell_type": "markdown",
      "metadata": {
        "id": "view-in-github",
        "colab_type": "text"
      },
      "source": [
        "<a href=\"https://colab.research.google.com/github/XuechengWu/mask_RCNN/blob/main/Custom_Train_PixelLib_Official_V04.ipynb\" target=\"_parent\"><img src=\"https://colab.research.google.com/assets/colab-badge.svg\" alt=\"Open In Colab\"/></a>"
      ]
    },
    {
      "cell_type": "markdown",
      "source": [
        "# SetUp"
      ],
      "metadata": {
        "id": "yMx8ER2QzIdd"
      }
    },
    {
      "cell_type": "code",
      "source": [
        "from google.colab import drive\n",
        "drive.mount('/content/drive')"
      ],
      "metadata": {
        "id": "dOH51Ctv0_N_",
        "colab": {
          "base_uri": "https://localhost:8080/"
        },
        "outputId": "025f2289-4730-4174-920c-152258197ff3"
      },
      "execution_count": 1,
      "outputs": [
        {
          "output_type": "stream",
          "name": "stdout",
          "text": [
            "Mounted at /content/drive\n"
          ]
        }
      ]
    },
    {
      "cell_type": "code",
      "source": [
        "import tensorflow as tf\n",
        "print(tf.__version__)"
      ],
      "metadata": {
        "colab": {
          "base_uri": "https://localhost:8080/"
        },
        "id": "rVfXUtDBv8JH",
        "outputId": "9b26e787-f914-4f73-e716-4dd895fc24e4"
      },
      "execution_count": 1,
      "outputs": [
        {
          "output_type": "stream",
          "name": "stdout",
          "text": [
            "2.5.0\n"
          ]
        }
      ]
    },
    {
      "cell_type": "code",
      "source": [
        "!pip uninstall tensorflow"
      ],
      "metadata": {
        "id": "IjkwD8W9wK1p"
      },
      "execution_count": null,
      "outputs": []
    },
    {
      "cell_type": "code",
      "source": [
        "!pip install tensorflow==2.2.0"
      ],
      "metadata": {
        "id": "7VAz5uUkwWYj"
      },
      "execution_count": null,
      "outputs": []
    },
    {
      "cell_type": "code",
      "metadata": {
        "id": "DUJXOXk4XGLf"
      },
      "source": [
        "!pip install Pillow==9.0.0\n",
        "!pip install pixellib==0.5.2\n",
        "!pip install labelme2coco==0.1.0"
      ],
      "execution_count": null,
      "outputs": []
    },
    {
      "cell_type": "code",
      "metadata": {
        "id": "44999EylW2xL"
      },
      "source": [
        "!wget https://dl-web.dropbox.com/s/c9elcso8yamuhg5/LaserDataSet.zip"
      ],
      "execution_count": null,
      "outputs": []
    },
    {
      "cell_type": "code",
      "metadata": {
        "id": "YyQ3q6x3XB1x"
      },
      "source": [
        "!unzip LaserDataSet.zip"
      ],
      "execution_count": null,
      "outputs": []
    },
    {
      "cell_type": "code",
      "metadata": {
        "id": "fw1fMX-kXEAn"
      },
      "source": [
        "!wget \"https://github.com/ayoolaolafenwa/PixelLib/releases/download/1.2/mask_rcnn_coco.h5\""
      ],
      "execution_count": null,
      "outputs": []
    },
    {
      "cell_type": "markdown",
      "source": [
        "# DataSet"
      ],
      "metadata": {
        "id": "mgQx182-zQut"
      }
    },
    {
      "cell_type": "code",
      "metadata": {
        "id": "WtrntXQaXJpS"
      },
      "source": [
        "import pixellib\n",
        "from pixellib.custom_train import instance_custom_training\n",
        "\n",
        "vis_img = instance_custom_training()\n",
        "vis_img.load_dataset(\"LaserDataSet\")\n",
        "vis_img.visualize_sample()"
      ],
      "execution_count": null,
      "outputs": []
    },
    {
      "cell_type": "markdown",
      "source": [
        "# Training"
      ],
      "metadata": {
        "id": "wHAFTc6RzU6L"
      }
    },
    {
      "cell_type": "code",
      "metadata": {
        "id": "viPDzcn3XMOS"
      },
      "source": [
        "import pixellib\n",
        "from pixellib.custom_train import instance_custom_training\n",
        "\n",
        "train_maskrcnn = instance_custom_training()\n",
        "train_maskrcnn.modelConfig(network_backbone = \"resnet101\", num_classes= 1, batch_size = 4)\n",
        "train_maskrcnn.load_pretrained_model(\"mask_rcnn_coco.h5\")\n",
        "train_maskrcnn.load_dataset(\"LaserDataSet\")\n",
        "train_maskrcnn.train_model(num_epochs = 10, augmentation=True,  path_trained_models = \"mask_rcnn_models\")"
      ],
      "execution_count": null,
      "outputs": []
    },
    {
      "cell_type": "markdown",
      "source": [
        "# Evaluation"
      ],
      "metadata": {
        "id": "HSc-FB_GzZYG"
      }
    },
    {
      "cell_type": "code",
      "metadata": {
        "id": "teZBK4K_XOzz"
      },
      "source": [
        "import pixellib\n",
        "from pixellib.custom_train import instance_custom_training\n",
        "\n",
        "train_maskrcnn = instance_custom_training()\n",
        "train_maskrcnn.modelConfig(network_backbone = \"resnet101\", num_classes= 1)\n",
        "train_maskrcnn.load_dataset(\"LaserDataSet\")\n",
        "train_maskrcnn.evaluate_model(\"/content/mask_rcnn_models\")"
      ],
      "execution_count": null,
      "outputs": []
    },
    {
      "cell_type": "markdown",
      "source": [
        "# Download Ergebnis"
      ],
      "metadata": {
        "id": "zPVpNOZs1MZX"
      }
    },
    {
      "cell_type": "code",
      "source": [
        "import os\n",
        "import shutil"
      ],
      "metadata": {
        "id": "Teo7Q_3Q1RiK"
      },
      "execution_count": 8,
      "outputs": []
    },
    {
      "cell_type": "code",
      "source": [
        "shutil.copyfile('/content/mask_rcnn_models/mask_rcnn_model.010-1.958293.h5', '/content/drive/MyDrive/Abschlussarbeit/modelErgebnis/mask_rcnn_model.010-1.958293.h5')"
      ],
      "metadata": {
        "id": "ySqukraE1V6q"
      },
      "execution_count": null,
      "outputs": []
    },
    {
      "cell_type": "markdown",
      "source": [
        "# Image"
      ],
      "metadata": {
        "id": "Qa27fMW889W6"
      }
    },
    {
      "cell_type": "code",
      "source": [
        "import pixellib\n",
        "from pixellib.instance import instance_segmentation\n",
        "from pixellib.instance import custom_segmentation"
      ],
      "metadata": {
        "id": "6heQiDPR9Fxh"
      },
      "execution_count": 4,
      "outputs": []
    },
    {
      "cell_type": "code",
      "source": [
        "segment_image = custom_segmentation()\n",
        "segment_image.inferConfig(num_classes= 1, class_names= [\"BG\", \"Laser\"])\n",
        "segment_image.load_model(\"/content/mask_rcnn_models/mask_rcnn_model.010-1.958293.h5\")"
      ],
      "metadata": {
        "id": "_J64q05b8_P-"
      },
      "execution_count": 6,
      "outputs": []
    },
    {
      "cell_type": "code",
      "source": [
        "segment_image.segmentImage(\"/content/LaserDataSet/test/15-13-57-f-0.png\",show_bboxes=True, output_image_name = \"/content/img1.png\")"
      ],
      "metadata": {
        "id": "o0-b5deF9Rdy"
      },
      "execution_count": null,
      "outputs": []
    },
    {
      "cell_type": "markdown",
      "source": [
        "# Video"
      ],
      "metadata": {
        "id": "jDqgHa3G9YbC"
      }
    },
    {
      "cell_type": "code",
      "source": [
        "segment_video = custom_segmentation()\n",
        "segment_video.inferConfig(num_classes= 1, class_names= [\"BG\", \"Laser\"])\n",
        "segment_video.load_model(\"/content/mask_rcnn_models/mask_rcnn_model.010-1.958293.h5\")\n"
      ],
      "metadata": {
        "id": "ZmNv4rtp9aDx"
      },
      "execution_count": 11,
      "outputs": []
    },
    {
      "cell_type": "code",
      "source": [
        "segment_video.process_video(\"/content/video1.mp4\", frames_per_second= 30, output_video_name=\"/content/video01.mp4\")"
      ],
      "metadata": {
        "id": "91VZDxL19a68"
      },
      "execution_count": null,
      "outputs": []
    },
    {
      "cell_type": "markdown",
      "source": [
        "# Command"
      ],
      "metadata": {
        "id": "PwsqYvpa_IQr"
      }
    },
    {
      "cell_type": "code",
      "source": [
        "shutil.copyfile('/content/video01.mp4', '/content/drive/MyDrive/Abschlussarbeit/videoErgebnis/video001.mp4')"
      ],
      "metadata": {
        "id": "nxMW3iNu_KbF"
      },
      "execution_count": null,
      "outputs": []
    }
  ]
}